{
 "cells": [
  {
   "cell_type": "markdown",
   "id": "12f04dca-e753-4c13-a6e8-a6a4a7742359",
   "metadata": {},
   "source": [
    "## collections — Container datatypes"
   ]
  },
  {
   "cell_type": "code",
   "execution_count": 1,
   "id": "4c060788-a1e4-4804-8991-26082cde86ca",
   "metadata": {},
   "outputs": [],
   "source": [
    "# https://docs.python.org/3/library/collections.html#collections.namedtuple\n",
    "from collections import namedtuple"
   ]
  },
  {
   "cell_type": "code",
   "execution_count": 2,
   "id": "cfbcd292-9742-47f3-807b-7266cb90e26b",
   "metadata": {},
   "outputs": [
    {
     "name": "stdout",
     "output_type": "stream",
     "text": [
      "33\n",
      "11 22\n",
      "33\n",
      "Point(x=11, y=22)\n"
     ]
    }
   ],
   "source": [
    "Point = namedtuple('Point', ['x', 'y'])\n",
    "\n",
    "p = Point(11, y=22)  # instantiate with positional or keyword arguments\n",
    "print(p[0] + p[1])  # indexable like the plain tuple (11, 22)\n",
    "\n",
    "x, y = p  # unpack like a regular tuple\n",
    "print(x, y)\n",
    "\n",
    "print(p.x + p.y)  # fields also accessible by name\n",
    "\n",
    "print(p)  # readable __repr__ with a name=value style"
   ]
  },
  {
   "cell_type": "code",
   "execution_count": 3,
   "id": "a68f0a97-cb08-43bd-9626-6952707be90c",
   "metadata": {},
   "outputs": [],
   "source": [
    "# Type hints.\n",
    "Point.__annotations__ = {'x': int, 'y': int}"
   ]
  },
  {
   "cell_type": "code",
   "execution_count": 4,
   "id": "004cc607-096a-4445-b1bf-b29bb469c7ef",
   "metadata": {},
   "outputs": [],
   "source": [
    "# Another way. \n",
    "import typing\n",
    "Point = typing.NamedTuple(\"Point\", [('x', int), ('y', int)])"
   ]
  }
 ],
 "metadata": {
  "kernelspec": {
   "display_name": "default:Python",
   "language": "python",
   "name": "conda-env-default-py"
  },
  "language_info": {
   "codemirror_mode": {
    "name": "ipython",
    "version": 3
   },
   "file_extension": ".py",
   "mimetype": "text/x-python",
   "name": "python",
   "nbconvert_exporter": "python",
   "pygments_lexer": "ipython3",
   "version": "3.9.10"
  }
 },
 "nbformat": 4,
 "nbformat_minor": 5
}
