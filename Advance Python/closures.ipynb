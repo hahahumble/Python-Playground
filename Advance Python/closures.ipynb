{
 "cells": [
  {
   "cell_type": "markdown",
   "id": "96407d0a-054a-4bb1-b8de-35e24ed9cfb7",
   "metadata": {},
   "source": [
    "# closures"
   ]
  },
  {
   "cell_type": "code",
   "execution_count": 2,
   "id": "31c301ef-4966-4959-9ce1-0ccd13482935",
   "metadata": {},
   "outputs": [
    {
     "name": "stdout",
     "output_type": "stream",
     "text": [
      "hi\n"
     ]
    }
   ],
   "source": [
    "def outer_func():\n",
    "    message = \"hi\"\n",
    "    \n",
    "    def inner_func():\n",
    "        print(message)\n",
    "        \n",
    "    return inner_func()\n",
    "\n",
    "outer_func()"
   ]
  },
  {
   "cell_type": "code",
   "execution_count": 3,
   "id": "e85fdb8f-57ec-4c76-9a69-538ecdce61e6",
   "metadata": {},
   "outputs": [
    {
     "name": "stdout",
     "output_type": "stream",
     "text": [
      "hello\n"
     ]
    }
   ],
   "source": [
    "def outer_func(msg):\n",
    "    message = msg\n",
    "    \n",
    "    def inner_func():\n",
    "        print(message)\n",
    "        \n",
    "    return inner_func()\n",
    "\n",
    "outer_func(\"hello\")"
   ]
  },
  {
   "cell_type": "code",
   "execution_count": null,
   "id": "d21cd036-578a-4529-8da2-af7dff7dba66",
   "metadata": {},
   "outputs": [],
   "source": []
  }
 ],
 "metadata": {
  "kernelspec": {
   "display_name": "default:Python",
   "language": "python",
   "name": "conda-env-default-py"
  },
  "language_info": {
   "codemirror_mode": {
    "name": "ipython",
    "version": 3
   },
   "file_extension": ".py",
   "mimetype": "text/x-python",
   "name": "python",
   "nbconvert_exporter": "python",
   "pygments_lexer": "ipython3",
   "version": "3.9.10"
  }
 },
 "nbformat": 4,
 "nbformat_minor": 5
}
