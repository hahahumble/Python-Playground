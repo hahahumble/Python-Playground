{
 "cells": [
  {
   "cell_type": "code",
   "execution_count": 1,
   "id": "f048bdc9-2330-4b00-9f71-252cb0094396",
   "metadata": {},
   "outputs": [
    {
     "name": "stdout",
     "output_type": "stream",
     "text": [
      "7\n"
     ]
    }
   ],
   "source": [
    "def func(x):\n",
    "    return x + 5\n",
    "\n",
    "result = func(2)\n",
    "print(result)"
   ]
  },
  {
   "cell_type": "code",
   "execution_count": null,
   "id": "0645e24f-e712-4bd0-b97d-2b4bbe7b676b",
   "metadata": {},
   "outputs": [],
   "source": [
    "func = lambda x: x+5\n",
    "\n",
    "result = func(2)\n",
    "print(result)"
   ]
  }
 ],
 "metadata": {
  "kernelspec": {
   "display_name": "default:Python",
   "language": "python",
   "name": "conda-env-default-py"
  },
  "language_info": {
   "codemirror_mode": {
    "name": "ipython",
    "version": 3
   },
   "file_extension": ".py",
   "mimetype": "text/x-python",
   "name": "python",
   "nbconvert_exporter": "python",
   "pygments_lexer": "ipython3",
   "version": "3.9.10"
  }
 },
 "nbformat": 4,
 "nbformat_minor": 5
}
