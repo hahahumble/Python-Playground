{
 "cells": [
  {
   "cell_type": "markdown",
   "id": "979319da-8666-4159-a69f-cd24c6ad3089",
   "metadata": {},
   "source": [
    "# staticmethod and classmethod"
   ]
  },
  {
   "cell_type": "markdown",
   "id": "fc33146b-8f89-40b2-9653-2e491e5fc05a",
   "metadata": {
    "jp-MarkdownHeadingCollapsed": true,
    "tags": []
   },
   "source": [
    "## classmethod"
   ]
  },
  {
   "cell_type": "code",
   "execution_count": 15,
   "id": "3c133d20-e728-4111-8a1b-0b3c14ff11f5",
   "metadata": {},
   "outputs": [
    {
     "name": "stdout",
     "output_type": "stream",
     "text": [
      "1.4\n",
      "2.0\n"
     ]
    }
   ],
   "source": [
    "class Employee:\n",
    "    num_of_employees = 0\n",
    "    amount = 1.4\n",
    "    \n",
    "    def __init__(self):\n",
    "        pass\n",
    "    \n",
    "    def set_amount(self, amount):\n",
    "        self.amount = amount\n",
    "        \n",
    "emp_1 = Employee()  # amount = 1.4\n",
    "\n",
    "emp_1.set_amount(2.0)\n",
    "print(Employee.amount)\n",
    "print(emp_1.amount)  # only emp_1.amount change"
   ]
  },
  {
   "cell_type": "code",
   "execution_count": 14,
   "id": "4f396d2b-0853-4d97-adf8-05d389fe01d5",
   "metadata": {},
   "outputs": [
    {
     "name": "stdout",
     "output_type": "stream",
     "text": [
      "2.0\n",
      "2.0\n"
     ]
    }
   ],
   "source": [
    "class Employee:\n",
    "    num_of_employees = 0\n",
    "    amount = 1.4\n",
    "    \n",
    "    def __init__(self):\n",
    "        pass\n",
    "    \n",
    "    @classmethod\n",
    "    def c_set_amount(cls, amount):\n",
    "        cls.amount = amount\n",
    "        \n",
    "emp_1 = Employee()\n",
    "\n",
    "Employee.c_set_amount(2.0)\n",
    "print(Employee.amount)\n",
    "print(emp_1.amount)  # both change"
   ]
  },
  {
   "cell_type": "code",
   "execution_count": 18,
   "id": "6a59141d-fba9-4e2a-984e-edaa0d4b1f80",
   "metadata": {},
   "outputs": [
    {
     "name": "stdout",
     "output_type": "stream",
     "text": [
      "John Doe\n"
     ]
    }
   ],
   "source": [
    "# Use class method as alternative constructor\n",
    "\n",
    "class Student:\n",
    "    def __init__(self, first_name, last_name):\n",
    "        self.first_name = first_name\n",
    "        self.last_name = last_name\n",
    "    \n",
    "    def name(self):\n",
    "        return f\"{self.first_name} {self.last_name}\"\n",
    "    \n",
    "    @classmethod\n",
    "    def from_string(cls, student_str):\n",
    "        first_name, last_name = student_str.split('-')\n",
    "        return cls(first_name, last_name)\n",
    "    \n",
    "\n",
    "student_1_str = \"John-Doe\"\n",
    "student_1 = Student.from_string(student_1_str)\n",
    "\n",
    "print(student_1.name())"
   ]
  },
  {
   "cell_type": "markdown",
   "id": "84768b6b-2342-404e-8d2d-5a53d379bbf8",
   "metadata": {},
   "source": [
    "## staticmethod"
   ]
  },
  {
   "cell_type": "code",
   "execution_count": 19,
   "id": "4b6cd826-cefa-4656-b623-116266c62737",
   "metadata": {},
   "outputs": [
    {
     "name": "stdout",
     "output_type": "stream",
     "text": [
      "True\n"
     ]
    }
   ],
   "source": [
    "class Number:\n",
    "    def __init__(self):\n",
    "        pass\n",
    "        \n",
    "    @staticmethod\n",
    "    def is_even(number):\n",
    "        return number % 2 == 0\n",
    "    \n",
    "\n",
    "print(Number.is_even(2))"
   ]
  }
 ],
 "metadata": {
  "kernelspec": {
   "display_name": "default:Python",
   "language": "python",
   "name": "conda-env-default-py"
  },
  "language_info": {
   "codemirror_mode": {
    "name": "ipython",
    "version": 3
   },
   "file_extension": ".py",
   "mimetype": "text/x-python",
   "name": "python",
   "nbconvert_exporter": "python",
   "pygments_lexer": "ipython3",
   "version": "3.9.10"
  }
 },
 "nbformat": 4,
 "nbformat_minor": 5
}
