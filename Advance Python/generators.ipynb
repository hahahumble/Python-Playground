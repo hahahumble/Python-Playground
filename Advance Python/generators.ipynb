{
 "cells": [
  {
   "cell_type": "code",
   "execution_count": 1,
   "id": "684256b7-0fda-48a4-b7b5-642a5658d346",
   "metadata": {},
   "outputs": [
    {
     "name": "stdout",
     "output_type": "stream",
     "text": [
      "[1, 4, 9, 16, 25]\n"
     ]
    }
   ],
   "source": [
    "def square_numbers(nums):\n",
    "    result = []\n",
    "    for i in nums:\n",
    "        result.append(i*i)\n",
    "    return result\n",
    "\n",
    "my_nums = square_numbers([1, 2, 3, 4, 5])\n",
    "\n",
    "print(my_nums)  # [1, 4, 9, 16, 25]"
   ]
  },
  {
   "cell_type": "code",
   "execution_count": 10,
   "id": "e33fd5fd-d88b-4d61-8122-033c7b0b4d81",
   "metadata": {},
   "outputs": [
    {
     "name": "stdout",
     "output_type": "stream",
     "text": [
      "<generator object square_numbers at 0x7fe94c1c8200>\n",
      "1\n",
      "4\n"
     ]
    }
   ],
   "source": [
    "def square_numbers(nums):\n",
    "    for i in nums:\n",
    "        yield (i*i)\n",
    "\n",
    "my_nums = square_numbers([1, 2, 3, 4, 5])\n",
    "\n",
    "print(my_nums)\n",
    "print(next(my_nums))  # 1\n",
    "print(next(my_nums))  # 4"
   ]
  },
  {
   "cell_type": "code",
   "execution_count": 9,
   "id": "9e4db997-9b28-4ab7-89cc-89d08c5b2b4e",
   "metadata": {},
   "outputs": [
    {
     "name": "stdout",
     "output_type": "stream",
     "text": [
      "1\n",
      "4\n",
      "9\n",
      "16\n",
      "25\n"
     ]
    }
   ],
   "source": [
    "my_nums = square_numbers([1, 2, 3, 4, 5])\n",
    "\n",
    "for num in my_nums:\n",
    "    print(num)"
   ]
  }
 ],
 "metadata": {
  "kernelspec": {
   "display_name": "default:Python",
   "language": "python",
   "name": "conda-env-default-py"
  },
  "language_info": {
   "codemirror_mode": {
    "name": "ipython",
    "version": 3
   },
   "file_extension": ".py",
   "mimetype": "text/x-python",
   "name": "python",
   "nbconvert_exporter": "python",
   "pygments_lexer": "ipython3",
   "version": "3.9.10"
  }
 },
 "nbformat": 4,
 "nbformat_minor": 5
}
