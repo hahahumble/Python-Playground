{
 "cells": [
  {
   "cell_type": "code",
   "execution_count": 1,
   "id": "ecee8246-b90a-4f41-91e3-203ab13a65ea",
   "metadata": {},
   "outputs": [
    {
     "name": "stdout",
     "output_type": "stream",
     "text": [
      "Collecting memory_profiler\n",
      "  Downloading memory_profiler-0.60.0.tar.gz (38 kB)\n",
      "Collecting psutil\n",
      "  Downloading psutil-5.9.0-cp39-cp39-manylinux_2_12_x86_64.manylinux2010_x86_64.manylinux_2_17_x86_64.manylinux2014_x86_64.whl (280 kB)\n",
      "\u001b[K     |████████████████████████████████| 280 kB 4.8 MB/s eta 0:00:01\n",
      "\u001b[?25hBuilding wheels for collected packages: memory-profiler\n",
      "  Building wheel for memory-profiler (setup.py) ... \u001b[?25ldone\n",
      "\u001b[?25h  Created wheel for memory-profiler: filename=memory_profiler-0.60.0-py3-none-any.whl size=31282 sha256=170d1e6a2f800b8884b9297e367d1c9eba77dcceee4be1cf2dd4686c5f96f35b\n",
      "  Stored in directory: /home/studio-lab-user/.cache/pip/wheels/0c/46/40/2be5888425b5058e7a3205875fda2ecf2219e515ad89dca951\n",
      "Successfully built memory-profiler\n",
      "Installing collected packages: psutil, memory-profiler\n",
      "Successfully installed memory-profiler-0.60.0 psutil-5.9.0\n"
     ]
    }
   ],
   "source": [
    "# memory-profiler\n",
    "!pip install -U memory_profiler"
   ]
  },
  {
   "cell_type": "code",
   "execution_count": 5,
   "id": "15b9c23a-80f0-41ca-9fa4-86d5f9c9b92d",
   "metadata": {},
   "outputs": [],
   "source": [
    "from memory_profiler import profile"
   ]
  },
  {
   "cell_type": "code",
   "execution_count": 7,
   "id": "34f5c42b-a788-4050-8064-b413cfc08a02",
   "metadata": {},
   "outputs": [],
   "source": [
    "@profile\n",
    "def my_func():\n",
    "    a = [1] * (10 ** 6)\n",
    "    b = [2] * (2 * 10 ** 7)\n",
    "    del b\n",
    "    return a"
   ]
  }
 ],
 "metadata": {
  "kernelspec": {
   "display_name": "default:Python",
   "language": "python",
   "name": "conda-env-default-py"
  },
  "language_info": {
   "codemirror_mode": {
    "name": "ipython",
    "version": 3
   },
   "file_extension": ".py",
   "mimetype": "text/x-python",
   "name": "python",
   "nbconvert_exporter": "python",
   "pygments_lexer": "ipython3",
   "version": "3.9.10"
  }
 },
 "nbformat": 4,
 "nbformat_minor": 5
}
