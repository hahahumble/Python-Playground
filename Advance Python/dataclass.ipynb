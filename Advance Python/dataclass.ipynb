{
 "cells": [
  {
   "cell_type": "code",
   "execution_count": null,
   "id": "9df091e3-8aee-4029-a97d-b117032a4515",
   "metadata": {},
   "outputs": [],
   "source": [
    "class Investor:\n",
    "    def __init__(self, name: str, age: int, cash: float) -> None:\n",
    "        self.name = name\n",
    "        self.age = age\n",
    "        self.cash = cash\n",
    "\n",
    "    def __str__(self) -> str:\n",
    "        return f\"name: {self.name}, age: {self.age}, cash: {self.cash}\"\n",
    "    \n",
    "    def __eq__(self, other):\n",
    "        return self.name == other.name\n",
    "    \n",
    "    def __lt__(self, other):\n",
    "        return self.cash == other.cash\n",
    "    \n",
    "\n",
    "i1 = Investor(\"John\", 25, 9000)\n",
    "i2 = Investor(\"Anna\", 30, 12000)\n",
    "i3 = Investor(\"Bob\", 70, 80000)\n",
    "\n",
    "i4 = Investor(\"Bob\", 33, 13000)\n",
    "\n",
    "print(i1)\n",
    "print(i1 < i4)"
   ]
  },
  {
   "cell_type": "markdown",
   "id": "8402ae71-37c5-4e97-90e5-52d54c7d2fcc",
   "metadata": {},
   "source": [
    "```python\n",
    "compare\n",
    "init\n",
    "rept\n",
    "default\n",
    "```"
   ]
  },
  {
   "cell_type": "code",
   "execution_count": 9,
   "id": "4b3d2e6f-ffc3-4691-aa7a-6a55afe3e855",
   "metadata": {},
   "outputs": [
    {
     "name": "stdout",
     "output_type": "stream",
     "text": [
      "Investor(name='John', age=80, cash=700)\n",
      "False\n",
      "True\n"
     ]
    }
   ],
   "source": [
    "# dataclass\n",
    "from dataclasses import dataclass\n",
    "\n",
    "@dataclass\n",
    "class Investor:\n",
    "    name: str\n",
    "    age: int = field(compare=False, init=False)\n",
    "    cash: float = field(repr=False, default=0.0)\n",
    "\n",
    "    \n",
    "i1 = Investor(\"John\", 80, 700)\n",
    "i2 = Investor(\"Mike\", 18, 2000)\n",
    "i3 = Investor(\"John\", 80, 700)\n",
    "\n",
    "print(i1)\n",
    "print(i1 == i2)\n",
    "print(i1 == i3)"
   ]
  },
  {
   "cell_type": "code",
   "execution_count": 9,
   "id": "aeed6c42-f957-48a4-9d8b-cccc70b006e0",
   "metadata": {},
   "outputs": [
    {
     "name": "stdout",
     "output_type": "stream",
     "text": [
      "Investor(name='John', age=80, cash=700)\n",
      "False\n",
      "True\n"
     ]
    }
   ],
   "source": [
    "@dataclass\n",
    "class Investor:\n",
    "    sort_index: float = field(init=False, repr=False)\n",
    "    name: str\n",
    "    age: int = field(compare=False, init=False)\n",
    "    cash: float = field(repr=False, default=0.0)\n",
    "    \n",
    "    def __post_init__(self):\n",
    "        self.sort_index = self.cash  # Using cash as the sort index.\n",
    "\n",
    "    \n",
    "i1 = Investor(\"John\", 80, 700)\n",
    "i2 = Investor(\"Mike\", 18, 2000)\n",
    "i3 = Investor(\"John\", 80, 700)\n",
    "\n",
    "print(i1)\n",
    "print(i1 == i2)\n",
    "print(i1 == i3)"
   ]
  }
 ],
 "metadata": {
  "kernelspec": {
   "display_name": "default:Python",
   "language": "python",
   "name": "conda-env-default-py"
  },
  "language_info": {
   "codemirror_mode": {
    "name": "ipython",
    "version": 3
   },
   "file_extension": ".py",
   "mimetype": "text/x-python",
   "name": "python",
   "nbconvert_exporter": "python",
   "pygments_lexer": "ipython3",
   "version": "3.9.10"
  }
 },
 "nbformat": 4,
 "nbformat_minor": 5
}
